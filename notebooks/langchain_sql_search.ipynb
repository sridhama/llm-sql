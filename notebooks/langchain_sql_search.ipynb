{
  "cells": [
    {
      "cell_type": "markdown",
      "metadata": {
        "id": "O_hKugfcF1HP"
      },
      "source": [
        "### Install dependencies"
      ]
    },
    {
      "cell_type": "code",
      "execution_count": null,
      "metadata": {
        "colab": {
          "base_uri": "https://localhost:8080/"
        },
        "id": "LDvwhBg9StQr",
        "outputId": "f09c9c2f-ca17-4462-b315-67537239e290"
      },
      "outputs": [],
      "source": [
        "!pip install langchain langchain-experimental openai\n",
        "!pip install tiktoken\n",
        "!pip install streamlit\n",
        "!npm install localtunnel"
      ]
    },
    {
      "cell_type": "markdown",
      "metadata": {
        "id": "Zbf1S-b_F3SG"
      },
      "source": [
        "### Create SQLite database from `.csv` dataset and create SQLDatabaseChain"
      ]
    },
    {
      "cell_type": "code",
      "execution_count": 59,
      "metadata": {
        "id": "zCrT1dkCA9Dw"
      },
      "outputs": [],
      "source": [
        "import pandas as pd\n",
        "import sqlite3\n",
        "import os\n",
        "import numpy as np\n",
        "\n",
        "from langchain.utilities import SQLDatabase\n",
        "from langchain.llms import OpenAI\n",
        "from langchain_experimental.sql import SQLDatabaseChain\n",
        "from langchain.embeddings import OpenAIEmbeddings\n",
        "\n",
        "os.environ['OPENAI_API_KEY'] = 'YOUR_API_KEY'\n",
        "\n",
        "DATA_PATH = './data'\n",
        "\n",
        "keys = ('brand_category', 'categories', 'offer_retailer')\n",
        "dfs = {}\n",
        "for k in keys:\n",
        "  dfs[k] = pd.read_csv(f'{DATA_PATH}/{k}.csv')\n",
        "\n",
        "DB_NAME = 'offer_db.sqlite'\n",
        "with sqlite3.connect(DB_NAME) as local_db:\n",
        "  for key, df in dfs.items():\n",
        "    df.to_sql(key,\n",
        "              local_db,\n",
        "              if_exists=\"replace\")\n",
        "\n",
        "db = SQLDatabase.from_uri(f'sqlite:///{DB_NAME}')\n",
        "llm = OpenAI(temperature=0, verbose=True)\n",
        "db_chain = SQLDatabaseChain.from_llm(llm, db, verbose=True)\n",
        "embeddings = OpenAIEmbeddings()"
      ]
    },
    {
      "cell_type": "markdown",
      "metadata": {
        "id": "9g7ZKYaiGDNN"
      },
      "source": [
        "### Parse LLM output"
      ]
    },
    {
      "cell_type": "code",
      "execution_count": 144,
      "metadata": {
        "id": "LVjtQlOuWN1V"
      },
      "outputs": [],
      "source": [
        "def parse_output(retrieved_offers):\n",
        "  if retrieved_offers == 'None':\n",
        "    return 'No relevant offers found.'\n",
        "  else:\n",
        "    top_offers = retrieved_offers.split('#')\n",
        "\n",
        "    query_embedding = embeddings.embed_query(query)\n",
        "    query_embedding = np.asarray(query_embedding)\n",
        "\n",
        "    offer_embeddings = []\n",
        "    for offer in top_offers:\n",
        "      offer_embeddings.append(embeddings.embed_query(offer))\n",
        "    offer_embeddings = np.asarray(offer_embeddings)\n",
        "\n",
        "    sim_scores = offer_embeddings.dot(query_embedding)\n",
        "\n",
        "    df = pd.DataFrame({'Match Confidence': sim_scores,\n",
        "                       'Offers': top_offers}).sort_values(by=['Match Confidence'],\n",
        "                                                          ascending=False).reset_index(drop=True)\n",
        "    return df"
      ]
    },
    {
      "cell_type": "markdown",
      "metadata": {
        "id": "iWaFCPtCGFQh"
      },
      "source": [
        "### Enter custom query"
      ]
    },
    {
      "cell_type": "code",
      "execution_count": null,
      "metadata": {
        "id": "5tyCT0dKUPdc"
      },
      "outputs": [],
      "source": [
        "query = 'target'"
      ]
    },
    {
      "cell_type": "markdown",
      "metadata": {
        "id": "5wsJ9vSYGHAS"
      },
      "source": [
        "### Retrieve relevant rows from database using LLM and parse output"
      ]
    },
    {
      "cell_type": "code",
      "execution_count": 156,
      "metadata": {
        "colab": {
          "base_uri": "https://localhost:8080/"
        },
        "id": "KMr4vzwsvVDy",
        "outputId": "9f09b2ba-2ad3-43c8-8c26-05644524335d"
      },
      "outputs": [
        {
          "name": "stdout",
          "output_type": "stream",
          "text": [
            "\n",
            "\n",
            "\u001b[1m> Entering new SQLDatabaseChain chain...\u001b[0m\n",
            "\n",
            "You are given a query and your job is to retrieve relevant offers stored in the `offer_retailer` table under the `OFFER` field. \n",
            "The query might be in mixed case, so search for capitalized versions of the query too.\n",
            "Importantly, you might need to use information from other tables in the database namely: `brand_category`, `categories`, `offer_retailer` to retrieve the correct offer(s).\n",
            "Do not hallucinate offers. If offer does not exist in the `offer_retailer` table, return the string: `NONE`.\n",
            "Else, if you are able to retrieve offers from the `offer_retailer` table, separate each offer with the delimiter `#`. For example, here is what the output should look like: `offer1#offer2#offer3`.\n",
            "If the SQLResult is empty, return `None`. Do not generate any offers.\n",
            "Here is the query: `target`\n",
            "\n",
            "SQLQuery:\u001b[32;1m\u001b[1;3mSELECT DISTINCT \"OFFER\" \n",
            "FROM offer_retailer \n",
            "WHERE \"OFFER\" LIKE '%Target%' OR \"OFFER\" LIKE '%TARGET%'\n",
            "LIMIT 5;\u001b[0m\n",
            "SQLResult: \u001b[33;1m\u001b[1;3m[('Beyond Steak™ Plant-Based seared tips, 10 ounce at Target',), (\"L'Oréal Paris Hair color, select varieties, spend $19 at Target\",), (\"L'Oréal Paris Makeup, spend $35 at Target\",), ('Back to the Roots Grow Seed Starting Pots OR Germination Trays, at Walmart or Target',), ('Dove Hand Wash, select varieties, buy 2 at Target',)]\u001b[0m\n",
            "Answer:\u001b[32;1m\u001b[1;3mBeyond Steak™ Plant-Based seared tips, 10 ounce at Target#L'Oréal Paris Hair color, select varieties, spend $19 at Target#L'Oréal Paris Makeup, spend $35 at Target#Back to the Roots Grow Seed Starting Pots OR Germination Trays, at Walmart or Target#Dove Hand Wash, select varieties, buy 2 at Target\u001b[0m\n",
            "\u001b[1m> Finished chain.\u001b[0m\n",
            "   Match Confidence                                             Offers\n",
            "0          0.804493          L'Oréal Paris Makeup, spend $35 at Target\n",
            "1          0.791598  L'Oréal Paris Hair color, select varieties, sp...\n",
            "2          0.788051  Dove Hand Wash, select varieties, buy 2 at Target\n",
            "3          0.779084  Beyond Steak™ Plant-Based seared tips, 10 ounc...\n",
            "4          0.773735  Back to the Roots Grow Seed Starting Pots OR G...\n"
          ]
        }
      ],
      "source": [
        "prompt = f'''\n",
        "You are given a query and your job is to retrieve relevant offers stored in the `offer_retailer` table under the `OFFER` field.\n",
        "The query might be in mixed case, so search for capitalized versions of the query too.\n",
        "Importantly, you might need to use information from other tables in the database namely: `brand_category`, `categories`, `offer_retailer` to retrieve the correct offer(s).\n",
        "Do not hallucinate offers. If offer does not exist in the `offer_retailer` table, return the string: `NONE`.\n",
        "Else, if you are able to retrieve offers from the `offer_retailer` table, separate each offer with the delimiter `#`. For example, here is what the output should look like: `offer1#offer2#offer3`.\n",
        "If the SQLResult is empty, return `None`. Do not generate any offers.\n",
        "Here is the query: `{query}`\n",
        "'''\n",
        "\n",
        "retrieved_offers = db_chain.run(prompt)\n",
        "if retrieved_offers == \"None\":\n",
        "    print(\"No relevant offers found.\")\n",
        "else:\n",
        "    print(parse_output(retrieved_offers))"
      ]
    }
  ],
  "metadata": {
    "colab": {
      "provenance": []
    },
    "kernelspec": {
      "display_name": "Python 3",
      "name": "python3"
    },
    "language_info": {
      "name": "python"
    }
  },
  "nbformat": 4,
  "nbformat_minor": 0
}
